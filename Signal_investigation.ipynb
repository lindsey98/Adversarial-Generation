{
 "cells": [
  {
   "cell_type": "markdown",
   "source": [
    "## Import"
   ],
   "metadata": {
    "collapsed": false
   }
  },
  {
   "cell_type": "code",
   "execution_count": null,
   "outputs": [],
   "source": [
    "import torch\n",
    "import matplotlib.pyplot as plt\n",
    "import torch.nn as nn\n",
    "from utils import *\n",
    "from torch.autograd import Variable\n",
    "import os\n",
    "import numpy as np"
   ],
   "metadata": {
    "collapsed": false,
    "pycharm": {
     "name": "#%%\n"
    }
   }
  },
  {
   "cell_type": "markdown",
   "source": [
    "## Check"
   ],
   "metadata": {
    "collapsed": false
   }
  },
  {
   "cell_type": "code",
   "execution_count": null,
   "outputs": [],
   "source": [
    "check = torch.load('./data/adversarial/fgsm_0.pt')"
   ],
   "metadata": {
    "collapsed": false,
    "pycharm": {
     "name": "#%%\n"
    }
   }
  },
  {
   "cell_type": "code",
   "execution_count": null,
   "outputs": [],
   "source": [
    "plt.imshow(check[0].detach().cpu().squeeze(0).permute(1, 2, 0))\n",
    "plt.show()"
   ],
   "metadata": {
    "collapsed": false,
    "pycharm": {
     "name": "#%%\n"
    }
   }
  },
  {
   "cell_type": "markdown",
   "source": [
    "## Model"
   ],
   "metadata": {
    "collapsed": false
   }
  },
  {
   "cell_type": "code",
   "execution_count": null,
   "outputs": [],
   "source": [
    "device = 'cuda' if torch.cuda.is_available else 'cpu'\n",
    "model = load_model('./checkpoints/model.th')\n",
    "model = model.to(device)"
   ],
   "metadata": {
    "collapsed": false,
    "pycharm": {
     "name": "#%%\n"
    }
   }
  },
  {
   "cell_type": "code",
   "execution_count": null,
   "outputs": [],
   "source": [
    "assert len(os.listdir('./data/adversarial')) == len(os.listdir('./data/normal'))\n",
    "normal_data, targets = load_samples('./data/normal', 'fgsm')\n",
    "print('Finish loading all normal examples')\n",
    "adv_data, targets_ = load_samples('./data/adversarial', 'fgsm')\n",
    "print('Finish loading all adversarial examples')\n",
    "assert torch.sum(torch.eq(targets, targets_)).item() == len(targets)"
   ],
   "metadata": {
    "collapsed": false,
    "pycharm": {
     "name": "#%%\n"
    }
   }
  },
  {
   "cell_type": "code",
   "execution_count": null,
   "outputs": [],
   "source": [
    "len(list(model.children()))"
   ],
   "metadata": {
    "collapsed": false,
    "pycharm": {
     "name": "#%%\n"
    }
   }
  },
  {
   "cell_type": "code",
   "execution_count": null,
   "outputs": [],
   "source": [
    "def intermediate_feat(model, inputs, layer_ct):\n",
    "    partial_mod = partial_model_execute(model, layer_ct)\n",
    "    inputs = inputs.to(device)\n",
    "    with torch.no_grad():\n",
    "        outputs = partial_mod(inputs)\n",
    "    output_feat = outputs.detach().cpu()\n",
    "        \n",
    "#         print(output_feat.shape)\n",
    "    return output_feat"
   ],
   "metadata": {
    "collapsed": false,
    "pycharm": {
     "name": "#%%\n"
    }
   }
  },
  {
   "cell_type": "code",
   "execution_count": null,
   "outputs": [],
   "source": [
    "for lay in range(len(list(model.children()))):\n",
    "    output_normal_feat = intermediate_feat(model, inputs=normal_data, layer_ct=lay)\n",
    "    output_adv_feat = intermediate_feat(model, inputs=adv_data, layer_ct=lay)\n",
    "    break\n",
    "    "
   ],
   "metadata": {
    "collapsed": false,
    "pycharm": {
     "name": "#%%\n"
    }
   }
  },
  {
   "cell_type": "code",
   "execution_count": null,
   "outputs": [],
   "source": [
    "output_normal_feat = intermediate_feat(model, inputs=normal_data, layer_ct=9)\n",
    "output_adv_feat = intermediate_feat(model, inputs=adv_data, layer_ct=9)"
   ],
   "metadata": {
    "collapsed": false,
    "pycharm": {
     "name": "#%%\n"
    }
   }
  },
  {
   "cell_type": "code",
   "execution_count": null,
   "outputs": [],
   "source": [
    "normal_mean = []\n",
    "adv_mean = []\n",
    "normal_var = []\n",
    "adv_var = []\n",
    "diff_list = []\n",
    "\n",
    "for i in range(len(output_adv_feat)): # loop over all samples\n",
    "    normal_var.append(np.std(output_normal_feat[i].flatten().numpy()))\n",
    "    normal_mean.append(np.mean(output_normal_feat[i].flatten().numpy()))\n",
    "    \n",
    "    adv_var.append(np.std(output_adv_feat[i].flatten().numpy()))\n",
    "    adv_mean.append(np.mean(output_adv_feat[i].flatten().numpy()))\n",
    "    \n",
    "    feature_map_diff = output_normal_feat[i].flatten().numpy() - output_adv_feat[i].flatten().numpy()\n",
    "    diff_list.append(feature_map_diff)\n",
    "\n",
    "diff_list = np.asarray(diff_list)\n",
    "\n",
    "\n"
   ],
   "metadata": {
    "collapsed": false,
    "pycharm": {
     "name": "#%%\n"
    }
   }
  },
  {
   "cell_type": "code",
   "execution_count": null,
   "outputs": [],
   "source": [
    "for i in range(100):\n",
    "    plt.hist(diff_list[:, i], bins=30)\n",
    "    plt.title('The distribution of differences in the {}th activation'.format(i))\n",
    "    plt.show()\n",
    "\n"
   ],
   "metadata": {
    "collapsed": false,
    "pycharm": {
     "name": "#%%\n"
    }
   }
  }
 ],
 "metadata": {
  "kernelspec": {
   "display_name": "Python [conda env:mypy37]",
   "language": "python",
   "name": "conda-env-mypy37-py"
  },
  "language_info": {
   "codemirror_mode": {
    "name": "ipython",
    "version": 3
   },
   "file_extension": ".py",
   "mimetype": "text/x-python",
   "name": "python",
   "nbconvert_exporter": "python",
   "pygments_lexer": "ipython3",
   "version": "3.7.7"
  },
  "pycharm": {
   "stem_cell": {
    "cell_type": "raw",
    "source": [],
    "metadata": {
     "collapsed": false
    }
   }
  }
 },
 "nbformat": 4,
 "nbformat_minor": 4
}