{
 "cells": [
  {
   "cell_type": "markdown",
   "metadata": {},
   "source": [
    "## Load model"
   ]
  },
  {
   "cell_type": "code",
   "execution_count": 1,
   "metadata": {},
   "outputs": [],
   "source": [
    "import torch\n",
    "from dataloader import *\n",
    "from utils import *\n",
    "import matplotlib.pyplot as plt\n",
    "from compare_distribution import *\n",
    "import numpy as np\n",
    "import os\n",
    "from models.vgg import VGG11"
   ]
  },
  {
   "cell_type": "code",
   "execution_count": 2,
   "metadata": {},
   "outputs": [],
   "source": [
    "device = 'cuda' if torch.cuda.is_available() else 'cpu'\n",
    "model = load_model('checkpoints/model.th', device)"
   ]
  },
  {
   "cell_type": "code",
   "execution_count": 3,
   "metadata": {
    "collapsed": true
   },
   "outputs": [
    {
     "data": {
      "text/plain": [
       "VGG11(\n",
       "  (conv1): Sequential(\n",
       "    (0): Conv2d(3, 64, kernel_size=(3, 3), stride=(1, 1), padding=(1, 1))\n",
       "    (1): BatchNorm2d(64, eps=1e-05, momentum=0.1, affine=True, track_running_stats=True)\n",
       "    (2): ReLU(inplace=True)\n",
       "    (3): MaxPool2d(kernel_size=2, stride=2, padding=0, dilation=1, ceil_mode=False)\n",
       "  )\n",
       "  (conv2): Sequential(\n",
       "    (0): Conv2d(64, 128, kernel_size=(3, 3), stride=(1, 1), padding=(1, 1))\n",
       "    (1): BatchNorm2d(128, eps=1e-05, momentum=0.1, affine=True, track_running_stats=True)\n",
       "    (2): ReLU(inplace=True)\n",
       "    (3): MaxPool2d(kernel_size=2, stride=2, padding=0, dilation=1, ceil_mode=False)\n",
       "  )\n",
       "  (conv3): Sequential(\n",
       "    (0): Conv2d(128, 256, kernel_size=(3, 3), stride=(1, 1), padding=(1, 1))\n",
       "    (1): BatchNorm2d(256, eps=1e-05, momentum=0.1, affine=True, track_running_stats=True)\n",
       "    (2): ReLU(inplace=True)\n",
       "  )\n",
       "  (conv4): Sequential(\n",
       "    (0): Conv2d(256, 256, kernel_size=(3, 3), stride=(1, 1), padding=(1, 1))\n",
       "    (1): BatchNorm2d(256, eps=1e-05, momentum=0.1, affine=True, track_running_stats=True)\n",
       "    (2): ReLU(inplace=True)\n",
       "    (3): MaxPool2d(kernel_size=2, stride=2, padding=0, dilation=1, ceil_mode=False)\n",
       "  )\n",
       "  (conv5): Sequential(\n",
       "    (0): Conv2d(256, 512, kernel_size=(3, 3), stride=(1, 1), padding=(1, 1))\n",
       "    (1): BatchNorm2d(512, eps=1e-05, momentum=0.1, affine=True, track_running_stats=True)\n",
       "    (2): ReLU(inplace=True)\n",
       "  )\n",
       "  (conv6): Sequential(\n",
       "    (0): Conv2d(512, 512, kernel_size=(3, 3), stride=(1, 1), padding=(1, 1))\n",
       "    (1): BatchNorm2d(512, eps=1e-05, momentum=0.1, affine=True, track_running_stats=True)\n",
       "    (2): ReLU(inplace=True)\n",
       "    (3): MaxPool2d(kernel_size=2, stride=2, padding=0, dilation=1, ceil_mode=False)\n",
       "  )\n",
       "  (conv7): Sequential(\n",
       "    (0): Conv2d(512, 512, kernel_size=(3, 3), stride=(1, 1), padding=(1, 1))\n",
       "    (1): BatchNorm2d(512, eps=1e-05, momentum=0.1, affine=True, track_running_stats=True)\n",
       "    (2): ReLU(inplace=True)\n",
       "  )\n",
       "  (conv8): Sequential(\n",
       "    (0): Conv2d(512, 512, kernel_size=(3, 3), stride=(1, 1), padding=(1, 1))\n",
       "    (1): BatchNorm2d(512, eps=1e-05, momentum=0.1, affine=True, track_running_stats=True)\n",
       "    (2): ReLU(inplace=True)\n",
       "    (3): MaxPool2d(kernel_size=2, stride=2, padding=0, dilation=1, ceil_mode=False)\n",
       "  )\n",
       "  (avgpool): AvgPool2d(kernel_size=1, stride=1, padding=0)\n",
       "  (classifier): Linear(in_features=512, out_features=10, bias=True)\n",
       ")"
      ]
     },
     "execution_count": 3,
     "metadata": {},
     "output_type": "execute_result"
    }
   ],
   "source": [
    "model"
   ]
  },
  {
   "cell_type": "markdown",
   "metadata": {},
   "source": [
    "## Load data"
   ]
  },
  {
   "cell_type": "code",
   "execution_count": 5,
   "metadata": {},
   "outputs": [],
   "source": [
    "dog = torch.load('./data/dog.pt')\n",
    "dog_data = dog.data\n",
    "dog_data = np.moveaxis(dog_data, -1, 1)\n",
    "dog_data = torch.from_numpy(dog_data)\n",
    "dog_data = dog_data.type(torch.FloatTensor)"
   ]
  },
  {
   "cell_type": "code",
   "execution_count": 6,
   "metadata": {},
   "outputs": [],
   "source": [
    "cat = torch.load('./data/cat.pt')\n",
    "cat_data = cat.data\n",
    "cat_data = np.moveaxis(cat_data, -1, 1)\n",
    "cat_data = torch.from_numpy(cat_data)\n",
    "cat_data = cat_data.type(torch.FloatTensor)"
   ]
  },
  {
   "cell_type": "code",
   "execution_count": 13,
   "metadata": {},
   "outputs": [],
   "source": [
    "cat_adv_fgsm = torch.load('./data/adv_cat_fgsm.pt')"
   ]
  },
  {
   "cell_type": "code",
   "execution_count": 14,
   "metadata": {},
   "outputs": [],
   "source": [
    "cat_adv_deepfool = torch.load('./data/adv_cat_deepfool.pt')"
   ]
  },
  {
   "cell_type": "code",
   "execution_count": 90,
   "metadata": {},
   "outputs": [],
   "source": [
    "cat_adv_cw = torch.load('./data/adv_cat_cw.pt')"
   ]
  },
  {
   "cell_type": "code",
   "execution_count": 82,
   "metadata": {},
   "outputs": [],
   "source": [
    "cat_adv_jsma = torch.load('./data/adv_cat_jsma.pt')"
   ]
  },
  {
   "cell_type": "code",
   "execution_count": 91,
   "metadata": {},
   "outputs": [
    {
     "data": {
      "text/plain": [
       "19"
      ]
     },
     "execution_count": 91,
     "metadata": {},
     "output_type": "execute_result"
    }
   ],
   "source": [
    "len(cat_adv_cw)"
   ]
  },
  {
   "cell_type": "markdown",
   "metadata": {},
   "source": [
    "## Calculate KL divergence"
   ]
  },
  {
   "cell_type": "code",
   "execution_count": 92,
   "metadata": {},
   "outputs": [],
   "source": [
    "dog_out = batch_model_execute(model, layer_ct=9, data=dog_data, device=device)\n",
    "cat_out = batch_model_execute(model, layer_ct=9, data=cat_data, device=device)\n",
    "adv_cat_out_fgsm = batch_model_execute(model, layer_ct=9, data=cat_adv_fgsm, device=device)\n",
    "adv_cat_out_df = batch_model_execute(model, layer_ct=9, data=cat_adv_deepfool, device=device)\n",
    "adv_cat_out_jsma = batch_model_execute(model, layer_ct=9, data=cat_adv_jsma, device=device)\n",
    "adv_cat_out_cw = batch_model_execute(model, layer_ct=9, data=cat_adv_cw, device=device)"
   ]
  },
  {
   "cell_type": "code",
   "execution_count": 24,
   "metadata": {},
   "outputs": [
    {
     "data": {
      "text/plain": [
       "986"
      ]
     },
     "execution_count": 24,
     "metadata": {},
     "output_type": "execute_result"
    }
   ],
   "source": [
    "len(adv_cat_out_fgsm)"
   ]
  },
  {
   "cell_type": "code",
   "execution_count": 25,
   "metadata": {},
   "outputs": [
    {
     "data": {
      "text/plain": [
       "1114"
      ]
     },
     "execution_count": 25,
     "metadata": {},
     "output_type": "execute_result"
    }
   ],
   "source": [
    "len(adv_cat_out_df)"
   ]
  },
  {
   "cell_type": "code",
   "execution_count": 85,
   "metadata": {},
   "outputs": [
    {
     "data": {
      "text/plain": [
       "700"
      ]
     },
     "execution_count": 85,
     "metadata": {},
     "output_type": "execute_result"
    }
   ],
   "source": [
    "len(adv_cat_out_jsma)"
   ]
  },
  {
   "cell_type": "code",
   "execution_count": 16,
   "metadata": {},
   "outputs": [],
   "source": [
    "abs_divergence = []\n",
    "for nr in range(dog_out.shape[1]):\n",
    "    act_dog = dog_out[:, nr, ...].flatten()\n",
    "    act_cat = cat_out[:, nr, ...].flatten()\n",
    "    diverge = kl_divergence(act_dog.numpy(), act_cat.numpy())\n",
    "    abs_divergence.append(abs(diverge))"
   ]
  },
  {
   "cell_type": "code",
   "execution_count": 17,
   "metadata": {},
   "outputs": [
    {
     "data": {
      "text/plain": [
       "array([99.8820624 , 57.11282395,  4.01803332,  1.3264057 ,  1.07477007,\n",
       "        0.4149808 ,  0.24966941,  0.24875865,  0.24686398,  0.14147899])"
      ]
     },
     "execution_count": 17,
     "metadata": {},
     "output_type": "execute_result"
    }
   ],
   "source": [
    "np.sort(abs_divergence)[::-1][:10]"
   ]
  },
  {
   "cell_type": "code",
   "execution_count": 18,
   "metadata": {
    "scrolled": true
   },
   "outputs": [],
   "source": [
    "abs_divergence = []\n",
    "for nr in range(cat_out.shape[1]):\n",
    "    act_cat_adv_fgsm = adv_cat_out_fgsm[:, nr, ...].flatten()\n",
    "    act_cat = cat_out[:, nr, ...].flatten()\n",
    "    diverge = kl_divergence(act_cat_adv_fgsm.numpy(), act_cat.numpy())\n",
    "    abs_divergence.append(abs(diverge))"
   ]
  },
  {
   "cell_type": "code",
   "execution_count": 19,
   "metadata": {},
   "outputs": [
    {
     "data": {
      "text/plain": [
       "array([141.43741724, 140.08008976, 135.22436168,  64.19999517,\n",
       "        61.87704334,  59.96241456,  56.78395501,  54.21964652,\n",
       "        52.36689503,  51.50964778])"
      ]
     },
     "execution_count": 19,
     "metadata": {},
     "output_type": "execute_result"
    }
   ],
   "source": [
    "np.sort(abs_divergence)[::-1][:10]"
   ]
  },
  {
   "cell_type": "code",
   "execution_count": 20,
   "metadata": {},
   "outputs": [],
   "source": [
    "abs_divergence = []\n",
    "for nr in range(cat_out.shape[1]):\n",
    "    act_cat_adv_df = adv_cat_out_df[:, nr, ...].flatten()\n",
    "    act_cat = cat_out[:, nr, ...].flatten()\n",
    "    diverge = kl_divergence(act_cat_adv_df.numpy(), act_cat.numpy())\n",
    "    abs_divergence.append(abs(diverge))"
   ]
  },
  {
   "cell_type": "code",
   "execution_count": 21,
   "metadata": {},
   "outputs": [
    {
     "data": {
      "text/plain": [
       "array([149.42356987, 134.77685622,  80.7573002 ,  75.39352389,\n",
       "        69.34133617,  56.12744008,  54.38516406,  51.86348477,\n",
       "        51.29603692,  44.77712343])"
      ]
     },
     "execution_count": 21,
     "metadata": {},
     "output_type": "execute_result"
    }
   ],
   "source": [
    "np.sort(abs_divergence)[::-1][:10]"
   ]
  },
  {
   "cell_type": "code",
   "execution_count": 86,
   "metadata": {},
   "outputs": [],
   "source": [
    "abs_divergence = []\n",
    "for nr in range(cat_out.shape[1]):\n",
    "    act_cat_adv_jsma = adv_cat_out_jsma[:, nr, ...].flatten()\n",
    "    act_cat = cat_out[:, nr, ...].flatten()\n",
    "    diverge = kl_divergence(act_cat_adv_jsma.numpy(), act_cat.numpy())\n",
    "    abs_divergence.append(abs(diverge))"
   ]
  },
  {
   "cell_type": "code",
   "execution_count": 87,
   "metadata": {
    "scrolled": true
   },
   "outputs": [
    {
     "data": {
      "text/plain": [
       "array([177.98685808, 146.09583066, 136.31400897, 125.35219135,\n",
       "       123.83196536, 108.85753191, 108.1113143 ,  75.68121395,\n",
       "        71.0926223 ,  67.62794263])"
      ]
     },
     "execution_count": 87,
     "metadata": {},
     "output_type": "execute_result"
    }
   ],
   "source": [
    "np.sort(abs_divergence)[::-1][:10]"
   ]
  },
  {
   "cell_type": "code",
   "execution_count": 93,
   "metadata": {},
   "outputs": [],
   "source": [
    "abs_divergence = []\n",
    "for nr in range(cat_out.shape[1]):\n",
    "    act_cat_adv_cw = adv_cat_out_cw[:, nr, ...].flatten()\n",
    "    act_cat = cat_out[:, nr, ...].flatten()\n",
    "    diverge = kl_divergence(act_cat_adv_cw.numpy(), act_cat.numpy())\n",
    "    abs_divergence.append(abs(diverge))"
   ]
  },
  {
   "cell_type": "code",
   "execution_count": 94,
   "metadata": {},
   "outputs": [
    {
     "data": {
      "text/plain": [
       "array([163.42365137, 152.15383536, 144.78956684, 130.02089518,\n",
       "       125.85270045, 110.27219974, 100.74228241,  96.18598871,\n",
       "        95.03634067,  93.18001307])"
      ]
     },
     "execution_count": 94,
     "metadata": {},
     "output_type": "execute_result"
    }
   ],
   "source": [
    "np.sort(abs_divergence)[::-1][:10]"
   ]
  },
  {
   "cell_type": "markdown",
   "metadata": {},
   "source": [
    "- Divergence between adversarial attacks"
   ]
  },
  {
   "cell_type": "code",
   "execution_count": 22,
   "metadata": {},
   "outputs": [],
   "source": [
    "abs_divergence = []\n",
    "for nr in range(cat_out.shape[1]):\n",
    "    act_cat_adv_df = adv_cat_out_df[:, nr, ...].flatten()\n",
    "    act_cat_adv_fgsm = adv_cat_out_fgsm[:, nr, ...].flatten()\n",
    "    diverge = kl_divergence(act_cat_adv_df.numpy(), act_cat_adv_fgsm.numpy())\n",
    "    abs_divergence.append(abs(diverge))"
   ]
  },
  {
   "cell_type": "code",
   "execution_count": 23,
   "metadata": {},
   "outputs": [
    {
     "data": {
      "text/plain": [
       "array([0.86820515, 0.80963881, 0.7563966 , 0.751757  , 0.72145569,\n",
       "       0.72122479, 0.6936098 , 0.63065694, 0.61427395, 0.61417784])"
      ]
     },
     "execution_count": 23,
     "metadata": {},
     "output_type": "execute_result"
    }
   ],
   "source": [
    "np.sort(abs_divergence)[::-1][:10]"
   ]
  },
  {
   "cell_type": "code",
   "execution_count": 88,
   "metadata": {},
   "outputs": [],
   "source": [
    "abs_divergence = []\n",
    "for nr in range(cat_out.shape[1]):\n",
    "    act_cat_adv_df = adv_cat_out_df[:, nr, ...].flatten()\n",
    "    act_cat_adv_jsma = adv_cat_out_jsma[:, nr, ...].flatten()\n",
    "    diverge = kl_divergence(act_cat_adv_df.numpy(), act_cat_adv_jsma.numpy())\n",
    "    abs_divergence.append(abs(diverge))"
   ]
  },
  {
   "cell_type": "code",
   "execution_count": 89,
   "metadata": {
    "scrolled": true
   },
   "outputs": [
    {
     "data": {
      "text/plain": [
       "array([1.65400401, 1.36366183, 1.23483498, 1.19153064, 1.11098124,\n",
       "       1.07574134, 1.03529242, 0.99717403, 0.89416937, 0.88294176])"
      ]
     },
     "execution_count": 89,
     "metadata": {},
     "output_type": "execute_result"
    }
   ],
   "source": [
    "np.sort(abs_divergence)[::-1][:10]"
   ]
  },
  {
   "cell_type": "code",
   "execution_count": 95,
   "metadata": {},
   "outputs": [],
   "source": [
    "abs_divergence = []\n",
    "for nr in range(cat_out.shape[1]):\n",
    "    act_cat_adv_df = adv_cat_out_df[:, nr, ...].flatten()\n",
    "    act_cat_adv_cw = adv_cat_out_cw[:, nr, ...].flatten()\n",
    "    diverge = kl_divergence(act_cat_adv_df.numpy(), act_cat_adv_cw.numpy())\n",
    "    abs_divergence.append(abs(diverge))"
   ]
  },
  {
   "cell_type": "code",
   "execution_count": 96,
   "metadata": {},
   "outputs": [
    {
     "data": {
      "text/plain": [
       "array([5.10961035, 1.06696186, 1.03205453, 0.95606473, 0.84709639,\n",
       "       0.8466234 , 0.77678929, 0.69604789, 0.69310573, 0.67013513])"
      ]
     },
     "execution_count": 96,
     "metadata": {},
     "output_type": "execute_result"
    }
   ],
   "source": [
    "np.sort(abs_divergence)[::-1][:10]"
   ]
  },
  {
   "cell_type": "code",
   "execution_count": null,
   "metadata": {},
   "outputs": [],
   "source": []
  }
 ],
 "metadata": {
  "kernelspec": {
   "display_name": "Python 3",
   "language": "python",
   "name": "python3"
  },
  "language_info": {
   "codemirror_mode": {
    "name": "ipython",
    "version": 3
   },
   "file_extension": ".py",
   "mimetype": "text/x-python",
   "name": "python",
   "nbconvert_exporter": "python",
   "pygments_lexer": "ipython3",
   "version": "3.7.9"
  }
 },
 "nbformat": 4,
 "nbformat_minor": 4
}
