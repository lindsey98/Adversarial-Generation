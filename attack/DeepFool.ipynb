{
 "cells": [
  {
   "cell_type": "code",
   "execution_count": 1,
   "metadata": {},
   "outputs": [],
   "source": [
    "import numpy as np\n",
    "from torch.autograd import Variable\n",
    "import torch as torch\n",
    "import copy\n",
    "from torch.autograd.gradcheck import zero_gradients\n",
    "import os\n",
    "os.chdir('..')\n",
    "from dataloader import *\n",
    "from models.vgg import VGG11"
   ]
  },
  {
   "cell_type": "code",
   "execution_count": 2,
   "metadata": {},
   "outputs": [],
   "source": [
    "def adv_attack(image, label, model, I, num_classes=10, overshoot=0.02, max_iter=50):\n",
    "    '''https://github.com/LTS4/DeepFool/tree/master/Python'''\n",
    "    \n",
    "    pert_image = copy.deepcopy(image)\n",
    "    w = np.zeros(image.shape)\n",
    "    r_tot = np.zeros(image.shape)\n",
    "\n",
    "    loop_i = 0\n",
    "\n",
    "    x = Variable(pert_image, requires_grad=True)\n",
    "    fs, _ = model.forward(x)\n",
    "    fs_list = [fs[0,I[k]] for k in range(num_classes)]\n",
    "    k_i = label\n",
    "\n",
    "    while k_i == label and loop_i < max_iter:\n",
    "\n",
    "        pert = np.inf\n",
    "        fs[0, I[0]].backward(retain_graph=True)\n",
    "        grad_orig = x.grad.data.detach().cpu().numpy().copy()\n",
    "\n",
    "        for k in range(1, num_classes):\n",
    "            zero_gradients(x)\n",
    "\n",
    "            fs[0, I[k]].backward(retain_graph=True)\n",
    "            cur_grad = x.grad.data.detach().cpu().numpy().copy()\n",
    "\n",
    "            # set new w_k and new f_k\n",
    "            w_k = cur_grad - grad_orig\n",
    "            f_k = (fs[0, I[k]] - fs[0, I[0]]).data.detach().cpu().numpy()\n",
    "\n",
    "            pert_k = abs(f_k)/np.linalg.norm(w_k.flatten())\n",
    "\n",
    "            # determine which w_k to use\n",
    "            if pert_k < pert:\n",
    "                pert = pert_k\n",
    "                w = w_k\n",
    "\n",
    "        # compute r_i and r_tot\n",
    "        # Added 1e-4 for numerical stability\n",
    "        r_i =  (pert+1e-4) * w / np.linalg.norm(w)\n",
    "        r_tot = np.float32(r_tot + r_i)\n",
    "\n",
    "        pert_image = image + (1+overshoot)*torch.from_numpy(r_tot).cuda()\n",
    "\n",
    "        x = Variable(pert_image, requires_grad=True)\n",
    "        fs, _ = model.forward(x)\n",
    "        k_i = np.argmax(fs.data.detach().cpu().numpy().flatten())\n",
    "\n",
    "        loop_i += 1\n",
    "    \n",
    "#     print(k_i, label)\n",
    "    return pert_image"
   ]
  },
  {
   "cell_type": "code",
   "execution_count": 3,
   "metadata": {},
   "outputs": [],
   "source": [
    "def deepfool_attack(model, device, dataloader, num_classes=10):\n",
    "\n",
    "    # Accuracy counter\n",
    "    correct = 0\n",
    "    total = 0\n",
    "    adv_examples = []\n",
    "    ct_save = 0\n",
    "    \n",
    "    adv_cat = torch.tensor([])\n",
    "    \n",
    "    # Loop over all examples in test set\n",
    "    for data, target in dataloader:\n",
    "        data, target = data.to(device), target.to(device)\n",
    "        # Set requires_grad attribute of tensor. Important for Attack\n",
    "        data.requires_grad = True\n",
    "\n",
    "        # Forward pass the data through the model\n",
    "        f_image, _ = model.forward(Variable(data, requires_grad=True))\n",
    "        f_image = f_image.detach().cpu().numpy().flatten()\n",
    "        I = (np.array(f_image)).flatten().argsort()[::-1]\n",
    "\n",
    "        init_pred = I[0]\n",
    "        \n",
    "        if init_pred.item() != target.item():  # initially was incorrect --> no need to generate adversary\n",
    "            continue\n",
    "\n",
    "        # Call Attack\n",
    "        perturbed_data = adv_attack(data, init_pred, model, I, num_classes=num_classes, overshoot=0.02, max_iter=50)\n",
    "\n",
    "        # Re-classify the perturbed image\n",
    "        model.eval()\n",
    "        with torch.no_grad():\n",
    "            output, _ = model(perturbed_data)\n",
    "\n",
    "        # Check for success\n",
    "        final_pred = output.max(1, keepdim=True)[1]\n",
    "        if final_pred.item() == target.item():\n",
    "            correct += 1  # still correct\n",
    "            \n",
    "        else:  # attack is successful\n",
    "            if final_pred.item() == 3:\n",
    "                adv_cat = torch.cat([adv_cat, perturbed_data.detach().cpu()], dim=0)\n",
    "\n",
    "        adv_ex = perturbed_data.squeeze().detach().cpu().numpy()\n",
    "        adv_examples.append((init_pred.item(), final_pred.item(), adv_ex))\n",
    "        total += 1\n",
    "        \n",
    "    torch.save(adv_cat, './data/adv_cat_deepfool.pt')\n",
    "    # Calculate final accuracy\n",
    "    final_acc = correct / float(len(dataloader))\n",
    "    print(\"Test Accuracy = {} / {} = {}\".format(correct, total, final_acc))\n",
    "\n",
    "    # Return the accuracy and an adversarial example\n",
    "    return final_acc, adv_examples\n",
    "\n"
   ]
  },
  {
   "cell_type": "code",
   "execution_count": 4,
   "metadata": {},
   "outputs": [
    {
     "name": "stdout",
     "output_type": "stream",
     "text": [
      "Files already downloaded and verified\n",
      "Files already downloaded and verified\n",
      "CUDA Available:  True\n"
     ]
    }
   ],
   "source": [
    "if __name__ == '__main__':\n",
    "    '''load cifar10 dataset'''\n",
    "    trainloader, testloader, classes = load_cifar_data()\n",
    "\n",
    "    '''define model'''\n",
    "    print(\"CUDA Available: \", torch.cuda.is_available())\n",
    "    device = torch.device(\"cuda\" if torch.cuda.is_available() else \"cpu\")\n",
    "    criterion = nn.CrossEntropyLoss()\n",
    "    \n",
    "    # Initialize the network\n",
    "    model = VGG11()\n",
    "    model.to(device)\n",
    "\n",
    "    '''load saved model'''\n",
    "    model.load_state_dict(torch.load('./checkpoints/model.th')['state_dict'])\n",
    "    model.eval()"
   ]
  },
  {
   "cell_type": "code",
   "execution_count": 5,
   "metadata": {},
   "outputs": [
    {
     "name": "stdout",
     "output_type": "stream",
     "text": [
      "Test Accuracy = 0 / 7867 = 0.0\n"
     ]
    }
   ],
   "source": [
    "'''generate and save adversarial examples'''\n",
    "accuracies = []\n",
    "examples = []\n",
    "\n",
    "acc, ex = deepfool_attack(model, device, testloader)"
   ]
  },
  {
   "cell_type": "code",
   "execution_count": null,
   "metadata": {},
   "outputs": [],
   "source": []
  }
 ],
 "metadata": {
  "kernelspec": {
   "display_name": "Python 3",
   "language": "python",
   "name": "python3"
  },
  "language_info": {
   "codemirror_mode": {
    "name": "ipython",
    "version": 3
   },
   "file_extension": ".py",
   "mimetype": "text/x-python",
   "name": "python",
   "nbconvert_exporter": "python",
   "pygments_lexer": "ipython3",
   "version": "3.7.7"
  }
 },
 "nbformat": 4,
 "nbformat_minor": 4
}
