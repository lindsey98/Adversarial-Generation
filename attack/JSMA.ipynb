{
 "cells": [
  {
   "cell_type": "code",
   "execution_count": 2,
   "metadata": {},
   "outputs": [],
   "source": [
    "import numpy as np\n",
    "from torch.autograd import Variable\n",
    "import torch as torch\n",
    "import copy\n",
    "from torch.autograd.gradcheck import zero_gradients\n",
    "import os\n",
    "os.chdir('..')\n",
    "from dataloader import *\n",
    "from models.vgg import VGG11\n",
    "import torch.optim as optim\n",
    "import random"
   ]
  },
  {
   "cell_type": "code",
   "execution_count": 242,
   "metadata": {},
   "outputs": [],
   "source": [
    "'''https://github.com/ast0414/adversarial-example/blob/master/craft.py'''\n",
    "def compute_jacobian(inputs, output):\n",
    "    num_classes = output.size()[1]\n",
    "\n",
    "    jacobian = torch.zeros(num_classes, *inputs.size()).cuda()\n",
    "    \n",
    "    for i in range(num_classes):\n",
    "        zero_gradients(inputs)\n",
    "        output[0, i].backward(retain_graph=True)\n",
    "        jacobian[i] = inputs.grad.data\n",
    "\n",
    "    return torch.transpose(jacobian, dim0=0, dim1=1)\n",
    "\n",
    "\n",
    "def saliency_map(jacobian, search_space, target_index):\n",
    "    jacobian = jacobian.squeeze(0)\n",
    "    alpha = jacobian[target_index]\n",
    "    beta = jacobian.sum(0) - alpha\n",
    "\n",
    "    mask1 = torch.ge(alpha, 0.0)\n",
    "    mask2 = torch.le(beta, 0.0)\n",
    "\n",
    "    mask = torch.mul(torch.mul(mask1, mask2), search_space)\n",
    "\n",
    "    saliency_map = torch.mul(torch.mul(alpha, torch.abs(beta)), mask.float())\n",
    "    saliency_map = saliency_map.sum(0).sum(0)\n",
    "    \n",
    "    row_idx, col_idx = (saliency_map == torch.max(saliency_map)).nonzero()[0]\n",
    "    return row_idx, col_idx\n",
    "\n",
    "\n",
    "def adv_attack(model, input_tensor, source_class, target_class, max_iter=100, clip_min=0.0, clip_max=1.0):\n",
    "\n",
    "    # Make a clone since we will alter the values\n",
    "    input_features = copy.deepcopy(input_tensor)\n",
    "    x = Variable(input_features, requires_grad=True)\n",
    "    count = 0\n",
    "\n",
    "    output, _ = model.forward(x)\n",
    "    _, source_class = torch.max(output.data, 1)\n",
    "    \n",
    "    # if attack is successful or reach the maximum number of iterations\n",
    "    while (count < max_iter) and (source_class.item() != target_class.item()):\n",
    "        \n",
    "        search_space = (x.data[0] > clip_min) & (x.data[0] < clip_max)\n",
    "        \n",
    "        # Calculate Jacobian\n",
    "        jacobian = compute_jacobian(x, output)\n",
    "        \n",
    "        # get the highest saliency map's index\n",
    "        row_idx, col_idx = saliency_map(jacobian, search_space, target_class)\n",
    "        \n",
    "        # increase to its maximum value\n",
    "        x.data[0, :, row_idx, col_idx] = clip_max\n",
    "        \n",
    "        # recompute prediction\n",
    "        output, _ = model.forward(x)\n",
    "        source_class = output.max(1, keepdim=True)[1]\n",
    "\n",
    "        count += 1\n",
    "\n",
    "    return x"
   ]
  },
  {
   "cell_type": "code",
   "execution_count": 243,
   "metadata": {},
   "outputs": [],
   "source": [
    "def jsma_attack(model, device, dataloader):\n",
    "\n",
    "    # Accuracy counter\n",
    "    correct = 0\n",
    "    total = 0\n",
    "    adv_examples = []\n",
    "    ct_save = 0\n",
    "    adv_cat = torch.tensor([])\n",
    "    \n",
    "    # Loop over all examples in test set\n",
    "    for data, target in dataloader:\n",
    "        data, target = data.to(device), target.to(device)\n",
    "        # Set requires_grad attribute of tensor. Important for Attack\n",
    "        data.requires_grad = True\n",
    "        \n",
    "        # Forward pass the data through the model\n",
    "        output, _ = model.forward(data)\n",
    "        init_pred = output.max(1, keepdim=True)[1]  # get the index of the max log-probability\n",
    "        \n",
    "        if init_pred.item() != target.item():  # initially was incorrect --> no need to generate adversary\n",
    "            continue\n",
    "        \n",
    "        # Call Attack\n",
    "        # randomly select a target class\n",
    "        target_class = init_pred\n",
    "        while target_class == init_pred:\n",
    "            target_class = torch.randint(0, output.size()[1], (1,)).to(device)\n",
    "        perturbed_data = adv_attack(model, data, source_class=init_pred, target_class=target_class)\n",
    "    \n",
    "        # Re-classify the perturbed image\n",
    "        model.eval()\n",
    "        with torch.no_grad():\n",
    "            output, _ = model(perturbed_data)\n",
    "\n",
    "        # Check for success\n",
    "        final_pred = output.max(1, keepdim=True)[1]\n",
    "        if final_pred.item() == target.item():\n",
    "            correct += 1  # still correct\n",
    "        else:  # attack is successful\n",
    "            if final_pred.item() == 3:\n",
    "                adv_cat = torch.cat([adv_cat, perturbed_data.detach().cpu()], dim=0)\n",
    "                torch.save(adv_cat, './data/adv_cat_jsma.pt')\n",
    "\n",
    "        adv_ex = perturbed_data.squeeze().detach().cpu().numpy()\n",
    "        adv_examples.append((init_pred.item(), final_pred.item(), adv_ex))\n",
    "        total += 1\n",
    "\n",
    "    # Calculate final accuracy for this epsilon\n",
    "    final_acc = correct / float(len(dataloader))\n",
    "    print(\"Test Accuracy = {} / {} = {}\".format(correct, total, final_acc))\n",
    "\n",
    "    # Return the accuracy and an adversarial example\n",
    "    return final_acc, adv_examples\n",
    "\n"
   ]
  },
  {
   "cell_type": "code",
   "execution_count": 233,
   "metadata": {},
   "outputs": [
    {
     "name": "stdout",
     "output_type": "stream",
     "text": [
      "Files already downloaded and verified\n",
      "Files already downloaded and verified\n",
      "CUDA Available:  True\n"
     ]
    }
   ],
   "source": [
    "if __name__ == '__main__':\n",
    "    '''load cifar10 dataset'''\n",
    "    trainloader, testloader, classes = load_cifar_data()\n",
    "\n",
    "    '''define model'''\n",
    "    print(\"CUDA Available: \", torch.cuda.is_available())\n",
    "    device = torch.device(\"cuda\" if torch.cuda.is_available() else \"cpu\")\n",
    "    criterion = nn.CrossEntropyLoss()\n",
    "    \n",
    "    # Initialize the network\n",
    "    model = VGG11()\n",
    "    model.to(device)\n",
    "\n",
    "    '''load saved model'''\n",
    "    model.load_state_dict(torch.load('./checkpoints/model.th')['state_dict'])\n",
    "    model.eval()"
   ]
  },
  {
   "cell_type": "code",
   "execution_count": 244,
   "metadata": {
    "scrolled": true
   },
   "outputs": [
    {
     "name": "stdout",
     "output_type": "stream",
     "text": [
      "Test Accuracy = 507 / 7867 = 0.0507\n"
     ]
    }
   ],
   "source": [
    "'''generate and save adversarial examples'''\n",
    "accuracies = []\n",
    "examples = []\n",
    "\n",
    "acc, ex = jsma_attack(model, device, testloader)"
   ]
  },
  {
   "cell_type": "code",
   "execution_count": null,
   "metadata": {},
   "outputs": [],
   "source": []
  }
 ],
 "metadata": {
  "kernelspec": {
   "display_name": "Python 3",
   "language": "python",
   "name": "python3"
  },
  "language_info": {
   "codemirror_mode": {
    "name": "ipython",
    "version": 3
   },
   "file_extension": ".py",
   "mimetype": "text/x-python",
   "name": "python",
   "nbconvert_exporter": "python",
   "pygments_lexer": "ipython3",
   "version": "3.7.7"
  }
 },
 "nbformat": 4,
 "nbformat_minor": 4
}
